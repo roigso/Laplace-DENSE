{
 "cells": [
  {
   "cell_type": "code",
   "execution_count": 1,
   "metadata": {},
   "outputs": [],
   "source": [
    "import numpy as np\n",
    "from matplotlib import pyplot as plt\n",
    "import meshio\n",
    "import tetgen\n",
    "from Mesh_tetra import Mesh\n",
    "import pyvista as pv\n",
    "from scipy.linalg import eigh\n",
    "from jax import vmap\n",
    "import jax.numpy as jnp\n",
    "from jax import random\n",
    "from mpl_toolkits.mplot3d import Axes3D"
   ]
  },
  {
   "cell_type": "markdown",
   "metadata": {},
   "source": [
    "The hexaedral mesh nodes and elements are imported."
   ]
  },
  {
   "cell_type": "code",
   "execution_count": 2,
   "metadata": {},
   "outputs": [],
   "source": [
    "nodes = np.genfromtxt('DENSE/S7/S7.node', skip_header=True)\n",
    "connectivity = np.genfromtxt('DENSE/S7/S7.ele', skip_header=True).astype(int)"
   ]
  },
  {
   "cell_type": "markdown",
   "metadata": {},
   "source": [
    "Fibers are imported."
   ]
  },
  {
   "cell_type": "code",
   "execution_count": 3,
   "metadata": {},
   "outputs": [],
   "source": [
    "invivo_fiber = np.genfromtxt('DENSE/S7/S7_invivo.Fiber')"
   ]
  },
  {
   "cell_type": "markdown",
   "metadata": {},
   "source": [
    "Now, the quadrature points are computed for an hexaedral element. According to the author of the dataset, this quadrature points follows the abaqus C3D8 norm."
   ]
  },
  {
   "cell_type": "code",
   "execution_count": 4,
   "metadata": {},
   "outputs": [],
   "source": [
    "def nodes_connectivity(points, connectivity):\n",
    "    return points[connectivity]\n",
    "\n",
    "nodes_connectivity_fn = lambda x: nodes_connectivity(jnp.array(nodes), x)\n",
    "hexaedrons_nodes = np.squeeze(np.array(vmap(nodes_connectivity_fn)(connectivity)))"
   ]
  },
  {
   "cell_type": "code",
   "execution_count": 5,
   "metadata": {},
   "outputs": [],
   "source": [
    "isoparametric_nodes = jnp.array([[1, -1 , -1],\n",
    "                                [1, 1, -1],\n",
    "                                [-1, 1, -1],\n",
    "                                [-1, -1, -1],\n",
    "                                [1, -1, 1],\n",
    "                                [1, 1, 1],\n",
    "                                [-1, 1, 1],\n",
    "                                [-1, -1, 1]])\n",
    "\n",
    "quadrature_points = isoparametric_nodes*(1/jnp.sqrt(3))\n",
    "\n",
    "def phi_i(isoparametric_node, quadrature_point):\n",
    "    xi, eta, zeta = isoparametric_node\n",
    "    xi_i, eta_i, zeta_i = quadrature_point\n",
    "    return (1/8)*(1 + xi*xi_i)*(1 + eta*eta_i)*(1 + zeta*zeta_i)\n",
    "\n",
    "\n",
    "Phi_matrix = []\n",
    "for quadrature_point in quadrature_points:\n",
    "    phi_i_fn = lambda x: phi_i(x, quadrature_point)\n",
    "    phis = np.array(vmap(phi_i_fn)(isoparametric_nodes))\n",
    "    Phi_matrix.append(phis)\n",
    "\n",
    "Phi_matrix = np.array(Phi_matrix)\n",
    "\n",
    "\n",
    "\n",
    "def int_points(phi, hexaedron):\n",
    "    return jnp.dot(phi, hexaedron)\n",
    "\n",
    "\n",
    "interpolation_points = []\n",
    "for hexaedron in hexaedrons_nodes:\n",
    "    int_node_fn = lambda x: int_points(x, hexaedron)\n",
    "    int_node = np.squeeze(np.array(vmap(int_node_fn)(Phi_matrix)))\n",
    "    interpolation_points.append(int_node)\n",
    "\n",
    "interpolation_points = np.array(interpolation_points)\n",
    "interpolation_points = interpolation_points.reshape((-1, 3))"
   ]
  },
  {
   "cell_type": "code",
   "execution_count": 6,
   "metadata": {},
   "outputs": [],
   "source": [
    "np.savetxt('Quadrature/hexaedrons_points.csv', hexaedrons_nodes.reshape((-1, 3)))\n",
    "np.savetxt('Quadrature/quadrature_points.csv', interpolation_points)"
   ]
  },
  {
   "cell_type": "code",
   "execution_count": 7,
   "metadata": {},
   "outputs": [],
   "source": [
    "interpolation_points = interpolation_points.reshape((-1, 3))"
   ]
  },
  {
   "cell_type": "markdown",
   "metadata": {},
   "source": [
    "It is checked that the number of quadrature points is the same as the number of points where the fibers are known."
   ]
  },
  {
   "cell_type": "code",
   "execution_count": 8,
   "metadata": {},
   "outputs": [
    {
     "name": "stdout",
     "output_type": "stream",
     "text": [
      "Number of quadrature points: 9504 \n",
      "Number of fiber points: 9504\n"
     ]
    }
   ],
   "source": [
    "print(\"Number of quadrature points:\", interpolation_points.shape[0], \"\\nNumber of fiber points:\", invivo_fiber.shape[0])"
   ]
  },
  {
   "cell_type": "markdown",
   "metadata": {},
   "source": [
    "Fibers are exported to be plot in Paraview."
   ]
  },
  {
   "cell_type": "code",
   "execution_count": 9,
   "metadata": {},
   "outputs": [],
   "source": [
    "first_eigs_invivo = invivo_fiber[:, :3]\n",
    "np.savetxt('Quadrature/first_fibers_invivo.csv', np.concatenate((interpolation_points, first_eigs_invivo), axis = 1))"
   ]
  },
  {
   "cell_type": "markdown",
   "metadata": {},
   "source": [
    "To visualize them in Paraview:\n",
    "* Import the csv, uncheck the box of  $Have \\; Headers$  and change $Field \\; Delimiter \\; Character$ for a space (\" \").\n",
    "* Apply $Table \\; to \\; Points$ field, selecting field 0, field 1 y field 2.\n",
    "* Apply a $Calculator$ as follows:\n",
    "$$\"Field \\; 3\"*iHat + \"Field \\; 4\"*jHat + \"Field \\; 5\"*kHat$$\n",
    "\"Field\" parameter is found in the $Scalars$ display menu, located under the calculator operations.\n",
    "* Apply a $Glyph$ filter to this $Calculator$."
   ]
  },
  {
   "cell_type": "code",
   "execution_count": null,
   "metadata": {},
   "outputs": [],
   "source": []
  }
 ],
 "metadata": {
  "kernelspec": {
   "display_name": "base",
   "language": "python",
   "name": "python3"
  },
  "language_info": {
   "codemirror_mode": {
    "name": "ipython",
    "version": 3
   },
   "file_extension": ".py",
   "mimetype": "text/x-python",
   "name": "python",
   "nbconvert_exporter": "python",
   "pygments_lexer": "ipython3",
   "version": "3.10.12"
  },
  "orig_nbformat": 4
 },
 "nbformat": 4,
 "nbformat_minor": 2
}
